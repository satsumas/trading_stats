{
 "cells": [
  {
   "cell_type": "code",
   "execution_count": null,
   "metadata": {},
   "outputs": [],
   "source": [
    "\"\"\"\"\n",
    "Plots the total value of assets (BTC and EUR) over time in a given GDAX account, taking into account the fluctuating value of BTC.\n",
    "\n",
    "\"\"\""
   ]
  },
  {
   "cell_type": "code",
   "execution_count": null,
   "metadata": {
    "collapsed": true
   },
   "outputs": [],
   "source": [
    "# EDIT: enter the number of days trading history to review\n",
    "trading_history_days = 1"
   ]
  },
  {
   "cell_type": "code",
   "execution_count": null,
   "metadata": {},
   "outputs": [],
   "source": [
    "!pip install gdax\n",
    "!pip install python-dateutil==2.6.1"
   ]
  },
  {
   "cell_type": "code",
   "execution_count": null,
   "metadata": {
    "collapsed": true
   },
   "outputs": [],
   "source": [
    "import gdax\n",
    "import numpy\n",
    "import pandas\n",
    "import json\n",
    "import pprint\n",
    "import matplotlib as plt\n",
    "import dateutil\n",
    "import datetime\n",
    "import pytz\n",
    "\n",
    "%matplotlib inline\n",
    "\n",
    "now = datetime.datetime.utcnow()\n",
    "n_days_ago = now - datetime.timedelta(days=trading_history_days)\n",
    "\n",
    "# value gives the total value of our btc and euro assets, at a given time.\n",
    "# df2[value][index] is the value at the time given by the row numbered index.\n",
    "\n",
    "btc_stack_cache = {}\n",
    "eur_stack_cache = {}\n",
    "\n",
    "# fill the btc_stack column\n",
    "def get_btc_stack(index, dataframe):\n",
    "    index = int(index)\n",
    "    \n",
    "    if index in btc_stack_cache:\n",
    "        return btc_stack_cache[index]\n",
    "    \n",
    "    if index == -1:\n",
    "        current_size = starting_btc_stack\n",
    "    else:\n",
    "        side = dataframe['side'][index]\n",
    "        current_transaction_btc = float(dataframe['size'][index])\n",
    "        # last_size = dataframe['btc_stack'][index-1]\n",
    "        last_size = get_btc_stack(index = index-1, dataframe = dataframe)\n",
    "        if side == \"buy\":\n",
    "            current_size = last_size + current_transaction_btc\n",
    "        if side == \"sell\":\n",
    "            current_size = last_size - current_transaction_btc\n",
    "    \n",
    "    btc_stack_cache[index] = current_size\n",
    "    return current_size\n",
    "\n",
    "# fill the eur_stack column\n",
    "def get_eur_stack(index, dataframe):\n",
    "    index = int(index)\n",
    "    \n",
    "    if index in eur_stack_cache:\n",
    "        return eur_stack_cache[index]\n",
    "    \n",
    "    if index == -1:\n",
    "        current_size = starting_eur_stack\n",
    "    else:\n",
    "        side = dataframe['side'][index]\n",
    "        current_transaction_btc = float(dataframe['size'][index])\n",
    "        current_transaction_price = float(dataframe['price'][index])        \n",
    "        # last_size = dataframe['eur_stack'][index-1]\n",
    "        last_size = get_eur_stack(index = index-1, dataframe = dataframe)\n",
    "        if side == \"buy\":\n",
    "            current_size = float(last_size - current_transaction_btc * current_transaction_price)\n",
    "        if side == \"sell\":\n",
    "            current_size = float(last_size + current_transaction_btc * current_transaction_price)\n",
    "            \n",
    "    eur_stack_cache[index] = current_size\n",
    "    return current_size          \n",
    "\n",
    "def asset_value(index, dataframe):\n",
    "    index = int(index)\n",
    "    if index == -1:\n",
    "        current_value = starting_btc_stack * price + starting_eur_stack\n",
    "    else:\n",
    "        current_price = float(dataframe['price'][index])\n",
    "        current_eur = float(dataframe['eur_stack'][index])\n",
    "        current_btc = float(dataframe['btc_stack'][index])\n",
    "        current_value = current_btc * current_price + current_eur\n",
    "    return current_value\n",
    "\n",
    "def asset_value_btc(index, dataframe):\n",
    "    index = int(index)\n",
    "    if index == -1:\n",
    "        current_value = starting_btc_stack + starting_eur_stack / price\n",
    "    else:\n",
    "        current_price = float(dataframe['price'][index])\n",
    "        current_eur = float(dataframe['eur_stack'][index])\n",
    "        current_btc = float(dataframe['btc_stack'][index])\n",
    "        current_value = current_btc + current_eur / current_price\n",
    "    return current_value\n",
    "\n",
    "def asset_value_btc_v2(index, dataframe):\n",
    "    return dataframe['value'][index] / dataframe['price'][index]"
   ]
  },
  {
   "cell_type": "code",
   "execution_count": null,
   "metadata": {
    "collapsed": true
   },
   "outputs": [],
   "source": [
    "b64secret, key, passphrase = [x.split('\"')[1] for x in open(\"production/env.sh\").readlines()]\n",
    "auth_client = gdax.AuthenticatedClient(key, b64secret, passphrase)\n",
    "public_client = gdax.PublicClient()"
   ]
  },
  {
   "cell_type": "code",
   "execution_count": null,
   "metadata": {
    "collapsed": true
   },
   "outputs": [],
   "source": [
    "accts = auth_client.get_accounts()\n",
    "for acct in accts:\n",
    "    if acct[\"currency\"] == \"EUR\":\n",
    "        eur_acct_id = acct[\"id\"]\n",
    "    if acct[\"currency\"] == \"BTC\":\n",
    "        btc_acct_id = acct[\"id\"]"
   ]
  },
  {
   "cell_type": "code",
   "execution_count": null,
   "metadata": {},
   "outputs": [],
   "source": [
    "accts"
   ]
  },
  {
   "cell_type": "code",
   "execution_count": null,
   "metadata": {
    "collapsed": true
   },
   "outputs": [],
   "source": [
    "eur_acct_history = auth_client.get_account_history(eur_acct_id)\n",
    "btc_acct_history = auth_client.get_account_history(btc_acct_id)"
   ]
  },
  {
   "cell_type": "code",
   "execution_count": null,
   "metadata": {},
   "outputs": [],
   "source": [
    "all_eur_acct_history = []\n",
    "\n",
    "# TODO: use the list of transfers in/out of the account to label our graph, and \n",
    "# differentiate between changes in asset value due to incoming/outgoing cash, versus\n",
    "# gains/losses due to trading\n",
    "eur_acct_transfers = []\n",
    "btc_acct_transfers = []\n",
    "\n",
    "for page in eur_acct_history:\n",
    "    for item in page:\n",
    "        all_eur_acct_history.append(item)\n",
    "        if item[\"type\"] == \"transfer\":\n",
    "            eur_acct_transfers.append((item[\"amount\"], item[\"created_at\"]))\n",
    "print len(all_eur_acct_history)\n",
    "print eur_acct_transfers\n",
    "\n",
    "all_btc_acct_history = []\n",
    "for page in btc_acct_history:\n",
    "    for item in page:\n",
    "        all_btc_acct_history.append(item)\n",
    "        if item[\"type\"] == \"transfer\":\n",
    "            btc_acct_transfers.append((item[\"amount\"], item[\"created_at\"]))\n",
    "print len(all_btc_acct_history)\n",
    "print btc_acct_transfers\n"
   ]
  },
  {
   "cell_type": "code",
   "execution_count": null,
   "metadata": {
    "collapsed": true
   },
   "outputs": [],
   "source": [
    "#price = 0.0\n",
    "\n",
    "# get initial balances for eur and btc accounts\n",
    "# this now needs to be the balance at the point in time set by the trading_history_days value\n",
    "\n",
    "starting_eur_stack = 0.0\n",
    "starting_btc_stack = 0.0\n",
    "\n",
    "# iterate over account history from oldest to newest\n",
    "for item in reversed(all_eur_acct_history):\n",
    "    created_at = dateutil.parser.parse(item[\"created_at\"])\n",
    "    created_at = created_at.replace(tzinfo=None)\n",
    "    if created_at > n_days_ago:\n",
    "        starting_eur_stack = float(item[\"balance\"])\n",
    "        break\n",
    "\n",
    "for item in reversed(all_btc_acct_history):\n",
    "    created_at = dateutil.parser.parse(item[\"created_at\"])\n",
    "    created_at = created_at.replace(tzinfo=None)\n",
    "    if created_at > n_days_ago:\n",
    "        starting_btc_stack = float(item[\"balance\"])\n",
    "        break\n",
    "\n",
    "# NB this doesn't work because we added more bitcoin and more euros :(\n",
    "\n",
    "# request is list of pages, page is list of dicts. each dict is a fill. page lists fills in reverse chronological order.\n",
    "request = auth_client.get_fills()"
   ]
  },
  {
   "cell_type": "code",
   "execution_count": null,
   "metadata": {
    "collapsed": true
   },
   "outputs": [],
   "source": [
    "all_results = []\n",
    "for page in request:\n",
    "    for row in page:\n",
    "        created_at = dateutil.parser.parse(row[\"created_at\"])\n",
    "        created_at = created_at.replace(tzinfo=None)\n",
    "        if created_at > n_days_ago:\n",
    "            all_results.append(row)\n",
    "df = pandas.DataFrame(data=list(reversed(all_results)))"
   ]
  },
  {
   "cell_type": "code",
   "execution_count": null,
   "metadata": {
    "collapsed": true
   },
   "outputs": [],
   "source": [
    "#make a new dataframe using columns from the initial dataframe\n",
    "df2 = df[[\"created_at\", \"order_id\", \"price\", \"size\", \"side\"]]\n",
    "\n",
    "# let initial btc price be the price it has for the first recorded fill in account history\n",
    "price = float(df2[\"price\"][0])"
   ]
  },
  {
   "cell_type": "code",
   "execution_count": null,
   "metadata": {},
   "outputs": [],
   "source": [
    "# Get the times in timestamp format so trades are plotted at sensible intervals (ignore the warning)\n",
    "df2['created_at'] = pandas.to_datetime(df2['created_at'])"
   ]
  },
  {
   "cell_type": "code",
   "execution_count": null,
   "metadata": {
    "collapsed": true
   },
   "outputs": [],
   "source": [
    "btc_stack = pandas.Series()\n",
    "eur_stack = pandas.Series()\n",
    "value = pandas.Series()\n",
    "value_btc = pandas.Series()\n",
    "value_holding = pandas.Series()\n",
    "difference = pandas.Series()\n",
    "df3 = pandas.concat([df2, btc_stack, eur_stack, value, value_holding, difference], axis=1, ignore_index=False)\n",
    "df3.columns=[\"created_at\", \"order_id\", \"price\", \"size\", \"side\", \"btc_stack\", \"eur_stack\", \"value\", \"value_holding\", \"difference\"]"
   ]
  },
  {
   "cell_type": "code",
   "execution_count": null,
   "metadata": {
    "collapsed": true
   },
   "outputs": [],
   "source": [
    "for i in range(0, len(all_results)):\n",
    "    df3.at[i, 'btc_stack'] = get_btc_stack(i, df3)\n",
    "    df3.at[i, 'eur_stack'] = get_eur_stack(i, df3)\n",
    "    df3.at[i, 'value'] = asset_value(i, df3)\n",
    "    df3.at[i, 'value_holding'] = starting_btc_stack * float(df3['price'][i]) + starting_eur_stack\n",
    "    df3.at[i, 'difference'] = df3.at[i, 'value'] - df3.at[i, 'value_holding']"
   ]
  },
  {
   "cell_type": "code",
   "execution_count": null,
   "metadata": {},
   "outputs": [],
   "source": [
    "import numpy as np\n",
    "import pandas as pd\n",
    "import matplotlib.pyplot as plt\n",
    "\n",
    "fig, ax = plt.subplots(figsize=(24, 12))\n",
    "labels = []\n",
    "ax = df3.plot(ax=ax, kind='line', x='created_at', y='value', c=\"green\")\n",
    "ax = df3.plot(ax=ax, kind='line', x='created_at', y='value_holding', c=\"red\")\n",
    "lines, _ = ax.get_legend_handles_labels()\n",
    "ax.legend(lines, [\"value trading\", \"value holding\"], loc='best')\n",
    "plt.show()"
   ]
  },
  {
   "cell_type": "markdown",
   "metadata": {},
   "source": [
    "In the plot, the green line shows the value of the total assets held, in BTC and EUR, over time, given the trades that have taken place in the account.\n",
    "\n",
    "The red line shows, counterfactually, what the total value of the assets _would have been_ had you not traded, but instead held your starting BTC, given the fluctuating currency prices.\n",
    "\n",
    "The values are given in EUR."
   ]
  },
  {
   "cell_type": "code",
   "execution_count": null,
   "metadata": {},
   "outputs": [],
   "source": [
    "import matplotlib.dates as mdates\n",
    "plt.rcParams.update({'font.size': 20})\n",
    "\n",
    "#df3.plot(x=\"created_at\", y=\"difference\", title=\"profit over holding\", figsize=(24, 12))\n",
    "\n",
    "fig, ax = plt.subplots(figsize=(24, 12))\n",
    "labels = []\n",
    "ax = df3.plot(ax=ax, kind='line', x='created_at', y='difference', c=\"green\", title=\"profit over holding\")\n",
    "xfmt = mdates.DateFormatter('%d-%m-%y %H:%M')\n",
    "ax.xaxis.set_major_formatter(xfmt)\n",
    "lines, _ = ax.get_legend_handles_labels()\n",
    "ax.legend(lines, [\"value trading\", \"value holding\"], loc='best')\n",
    "plt.show()"
   ]
  },
  {
   "cell_type": "code",
   "execution_count": null,
   "metadata": {},
   "outputs": [],
   "source": [
    "df4 = df3.tail(100)\n",
    "df4.plot(x = \"created_at\", y = \"value\", title = \"asset value in euro over time\", figsize = (12, 12))"
   ]
  },
  {
   "cell_type": "code",
   "execution_count": null,
   "metadata": {
    "collapsed": true
   },
   "outputs": [],
   "source": [
    "#TODO:\n",
    "# fix floating point rounding\n",
    "# df2.append rows as they come in, reload graph every time"
   ]
  }
 ],
 "metadata": {
  "kernelspec": {
   "display_name": "Python 2",
   "language": "python",
   "name": "python2"
  },
  "language_info": {
   "codemirror_mode": {
    "name": "ipython",
    "version": 2
   },
   "file_extension": ".py",
   "mimetype": "text/x-python",
   "name": "python",
   "nbconvert_exporter": "python",
   "pygments_lexer": "ipython2",
   "version": "2.7.14"
  }
 },
 "nbformat": 4,
 "nbformat_minor": 2
}
